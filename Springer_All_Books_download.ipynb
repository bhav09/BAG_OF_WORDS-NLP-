{
  "nbformat": 4,
  "nbformat_minor": 0,
  "metadata": {
    "colab": {
      "name": "Springer_All_Books_download.ipynb",
      "provenance": [],
      "mount_file_id": "1sSmBYL9lNNOAmfsGHFYnyIIReR4XCrd8",
      "authorship_tag": "ABX9TyNBuS6ejVF6YnVj4ilJlOUr",
      "include_colab_link": true
    },
    "kernelspec": {
      "name": "python3",
      "display_name": "Python 3"
    },
    "accelerator": "TPU"
  },
  "cells": [
    {
      "cell_type": "markdown",
      "metadata": {
        "id": "view-in-github",
        "colab_type": "text"
      },
      "source": [
        "<a href=\"https://colab.research.google.com/github/bhav09/BAG_OF_WORDS-NLP-/blob/master/Springer_All_Books_download.ipynb\" target=\"_parent\"><img src=\"https://colab.research.google.com/assets/colab-badge.svg\" alt=\"Open In Colab\"/></a>"
      ]
    },
    {
      "cell_type": "code",
      "metadata": {
        "id": "ixYPNOsKV0b3",
        "colab_type": "code",
        "colab": {}
      },
      "source": [
        "import os\n",
        "import requests\n",
        "import pandas as pd\n",
        "from tqdm import tqdm"
      ],
      "execution_count": 0,
      "outputs": []
    },
    {
      "cell_type": "code",
      "metadata": {
        "id": "BG0sds3NWSI1",
        "colab_type": "code",
        "outputId": "e634c92f-5ffe-4f8d-b27c-ebad206f7616",
        "colab": {
          "base_uri": "https://localhost:8080/",
          "height": 34
        }
      },
      "source": [
        "folder = os.getcwd() + '/download/'\n",
        "\n",
        "if not os.path.exists(folder):\n",
        "    os.mkdir(folder)\n",
        "\n",
        "books = pd.read_excel('https://resource-cms.springernature.com/springer-cms/rest/v1/content/17858272/data/v4')\n",
        "\n",
        "# save table:\n",
        "books.to_excel(folder + 'table.xlsx')\n",
        "\n",
        "# debug:\n",
        "# books = books.head()\n",
        "\n",
        "print('Download started.')"
      ],
      "execution_count": 0,
      "outputs": [
        {
          "output_type": "stream",
          "text": [
            "Download started.\n"
          ],
          "name": "stdout"
        }
      ]
    },
    {
      "cell_type": "code",
      "metadata": {
        "id": "REEcmCLvWSL_",
        "colab_type": "code",
        "outputId": "770cdb4b-23cb-45fc-c19b-0810df4ace3d",
        "colab": {
          "base_uri": "https://localhost:8080/",
          "height": 50
        }
      },
      "source": [
        "\n",
        "for url, title, author, pk_name in tqdm(books[['OpenURL', 'Book Title', 'Author', 'English Package Name']].values):\n",
        "\n",
        "    new_folder = folder + pk_name + '/'\n",
        "\n",
        "    if not os.path.exists(new_folder):\n",
        "        os.mkdir(new_folder)\n",
        "\n",
        "    r = requests.get(url) \n",
        "    new_url = r.url\n",
        "\n",
        "    new_url = new_url.replace('/book/','/content/pdf/')\n",
        "\n",
        "    new_url = new_url.replace('%2F','/')\n",
        "    new_url = new_url + '.pdf'\n",
        "\n",
        "    final = new_url.split('/')[-1]\n",
        "    final = title.replace(',','-').replace('.','').replace('/',' ') + ' - ' + author.replace(',','-').replace('.','').replace('/',' ') + ' - ' + final\n",
        "\n",
        "    myfile = requests.get(new_url, allow_redirects=True)\n",
        "    open(new_folder+final, 'wb').write(myfile.content)\n",
        "    \n",
        "    #download epub version too if exists\n",
        "    new_url = r.url\n",
        "\n",
        "    new_url = new_url.replace('/book/','/download/epub/')\n",
        "    new_url = new_url.replace('%2F','/')\n",
        "    new_url = new_url + '.epub'\n",
        "\n",
        "    final = new_url.split('/')[-1]\n",
        "    final = title.replace(',','-').replace('.','').replace('/',' ') + ' - ' + author.replace(',','-').replace('.','').replace('/',' ') + ' - ' + final\n",
        "    \n",
        "    request = requests.get(new_url)\n",
        "    if request.status_code == 200:\n",
        "        myfile = requests.get(new_url, allow_redirects=True)\n",
        "        open(new_folder+final, 'wb').write(myfile.content)\n",
        "\n",
        "print('Download finished.')\n"
      ],
      "execution_count": 0,
      "outputs": [
        {
          "output_type": "stream",
          "text": [
            "100%|██████████| 407/407 [15:23<00:00,  2.27s/it]"
          ],
          "name": "stderr"
        },
        {
          "output_type": "stream",
          "text": [
            "Download finished.\n"
          ],
          "name": "stdout"
        },
        {
          "output_type": "stream",
          "text": [
            "\n"
          ],
          "name": "stderr"
        }
      ]
    },
    {
      "cell_type": "code",
      "metadata": {
        "id": "y33bEyuRWSPV",
        "colab_type": "code",
        "colab": {}
      },
      "source": [
        ""
      ],
      "execution_count": 0,
      "outputs": []
    },
    {
      "cell_type": "code",
      "metadata": {
        "id": "mUoqKIPyWSGJ",
        "colab_type": "code",
        "colab": {}
      },
      "source": [
        ""
      ],
      "execution_count": 0,
      "outputs": []
    }
  ]
}